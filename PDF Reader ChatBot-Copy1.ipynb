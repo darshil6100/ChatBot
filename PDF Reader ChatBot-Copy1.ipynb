{
 "cells": [
  {
   "cell_type": "code",
   "execution_count": 35,
   "id": "e39fa39a",
   "metadata": {},
   "outputs": [],
   "source": [
    "import os\n",
    "from PyPDF2 import PdfMerger\n",
    "import glob"
   ]
  },
  {
   "cell_type": "code",
   "execution_count": 36,
   "id": "5f4bd165",
   "metadata": {},
   "outputs": [],
   "source": [
    "root_dir = os.path.normpath(os.getcwd() + os.sep + os.pardir)\n",
    "output_dir = os.path.join(root_dir,'Data/')\n",
    "input_dir = os.path.join(output_dir,'Input PDF')"
   ]
  },
  {
   "cell_type": "code",
   "execution_count": 37,
   "id": "f1a29a99",
   "metadata": {},
   "outputs": [],
   "source": [
    "merger = PdfMerger()"
   ]
  },
  {
   "cell_type": "code",
   "execution_count": 31,
   "id": "86b892a3",
   "metadata": {},
   "outputs": [
    {
     "ename": "KeyboardInterrupt",
     "evalue": "",
     "output_type": "error",
     "traceback": [
      "\u001b[1;31m---------------------------------------------------------------------------\u001b[0m",
      "\u001b[1;31mKeyboardInterrupt\u001b[0m                         Traceback (most recent call last)",
      "Cell \u001b[1;32mIn[31], line 3\u001b[0m\n\u001b[0;32m      1\u001b[0m \u001b[38;5;28;01mfor\u001b[39;00m files \u001b[38;5;129;01min\u001b[39;00m os\u001b[38;5;241m.\u001b[39mlistdir(input_dir):\n\u001b[0;32m      2\u001b[0m     \u001b[38;5;28;01mif\u001b[39;00m files\u001b[38;5;241m.\u001b[39mendswith(\u001b[38;5;124m'\u001b[39m\u001b[38;5;124m.pdf\u001b[39m\u001b[38;5;124m'\u001b[39m):\n\u001b[1;32m----> 3\u001b[0m         merger\u001b[38;5;241m.\u001b[39mappend(os\u001b[38;5;241m.\u001b[39mpath\u001b[38;5;241m.\u001b[39mjoin(input_dir,files))\n",
      "File \u001b[1;32m~\\anaconda3\\envs\\ChatBot1.0\\Lib\\site-packages\\PyPDF2\\_utils.py:417\u001b[0m, in \u001b[0;36mdeprecation_bookmark.<locals>.decoration.<locals>.wrapper\u001b[1;34m(*args, **kwargs)\u001b[0m\n\u001b[0;32m    414\u001b[0m \u001b[38;5;129m@functools\u001b[39m\u001b[38;5;241m.\u001b[39mwraps(func)\n\u001b[0;32m    415\u001b[0m \u001b[38;5;28;01mdef\u001b[39;00m \u001b[38;5;21mwrapper\u001b[39m(\u001b[38;5;241m*\u001b[39margs, \u001b[38;5;241m*\u001b[39m\u001b[38;5;241m*\u001b[39mkwargs):  \u001b[38;5;66;03m# type: ignore\u001b[39;00m\n\u001b[0;32m    416\u001b[0m     rename_kwargs(func\u001b[38;5;241m.\u001b[39m\u001b[38;5;18m__name__\u001b[39m, kwargs, aliases, fail\u001b[38;5;241m=\u001b[39m\u001b[38;5;28;01mTrue\u001b[39;00m)\n\u001b[1;32m--> 417\u001b[0m     \u001b[38;5;28;01mreturn\u001b[39;00m func(\u001b[38;5;241m*\u001b[39margs, \u001b[38;5;241m*\u001b[39m\u001b[38;5;241m*\u001b[39mkwargs)\n",
      "File \u001b[1;32m~\\anaconda3\\envs\\ChatBot1.0\\Lib\\site-packages\\PyPDF2\\_merger.py:319\u001b[0m, in \u001b[0;36mPdfMerger.append\u001b[1;34m(self, fileobj, outline_item, pages, import_outline)\u001b[0m\n\u001b[0;32m    286\u001b[0m \u001b[38;5;129m@deprecation_bookmark\u001b[39m(bookmark\u001b[38;5;241m=\u001b[39m\u001b[38;5;124m\"\u001b[39m\u001b[38;5;124moutline_item\u001b[39m\u001b[38;5;124m\"\u001b[39m, import_bookmarks\u001b[38;5;241m=\u001b[39m\u001b[38;5;124m\"\u001b[39m\u001b[38;5;124mimport_outline\u001b[39m\u001b[38;5;124m\"\u001b[39m)\n\u001b[0;32m    287\u001b[0m \u001b[38;5;28;01mdef\u001b[39;00m \u001b[38;5;21mappend\u001b[39m(\n\u001b[0;32m    288\u001b[0m     \u001b[38;5;28mself\u001b[39m,\n\u001b[1;32m   (...)\u001b[0m\n\u001b[0;32m    294\u001b[0m     import_outline: \u001b[38;5;28mbool\u001b[39m \u001b[38;5;241m=\u001b[39m \u001b[38;5;28;01mTrue\u001b[39;00m,\n\u001b[0;32m    295\u001b[0m ) \u001b[38;5;241m-\u001b[39m\u001b[38;5;241m>\u001b[39m \u001b[38;5;28;01mNone\u001b[39;00m:\n\u001b[0;32m    296\u001b[0m \u001b[38;5;250m    \u001b[39m\u001b[38;5;124;03m\"\"\"\u001b[39;00m\n\u001b[0;32m    297\u001b[0m \u001b[38;5;124;03m    Identical to the :meth:`merge()<merge>` method, but assumes you want to\u001b[39;00m\n\u001b[0;32m    298\u001b[0m \u001b[38;5;124;03m    concatenate all pages onto the end of the file instead of specifying a\u001b[39;00m\n\u001b[1;32m   (...)\u001b[0m\n\u001b[0;32m    317\u001b[0m \u001b[38;5;124;03m        'bookmarks') from being imported by specifying this as ``False``.\u001b[39;00m\n\u001b[0;32m    318\u001b[0m \u001b[38;5;124;03m    \"\"\"\u001b[39;00m\n\u001b[1;32m--> 319\u001b[0m     \u001b[38;5;28mself\u001b[39m\u001b[38;5;241m.\u001b[39mmerge(\u001b[38;5;28mlen\u001b[39m(\u001b[38;5;28mself\u001b[39m\u001b[38;5;241m.\u001b[39mpages), fileobj, outline_item, pages, import_outline)\n",
      "File \u001b[1;32m~\\anaconda3\\envs\\ChatBot1.0\\Lib\\site-packages\\PyPDF2\\_utils.py:417\u001b[0m, in \u001b[0;36mdeprecation_bookmark.<locals>.decoration.<locals>.wrapper\u001b[1;34m(*args, **kwargs)\u001b[0m\n\u001b[0;32m    414\u001b[0m \u001b[38;5;129m@functools\u001b[39m\u001b[38;5;241m.\u001b[39mwraps(func)\n\u001b[0;32m    415\u001b[0m \u001b[38;5;28;01mdef\u001b[39;00m \u001b[38;5;21mwrapper\u001b[39m(\u001b[38;5;241m*\u001b[39margs, \u001b[38;5;241m*\u001b[39m\u001b[38;5;241m*\u001b[39mkwargs):  \u001b[38;5;66;03m# type: ignore\u001b[39;00m\n\u001b[0;32m    416\u001b[0m     rename_kwargs(func\u001b[38;5;241m.\u001b[39m\u001b[38;5;18m__name__\u001b[39m, kwargs, aliases, fail\u001b[38;5;241m=\u001b[39m\u001b[38;5;28;01mTrue\u001b[39;00m)\n\u001b[1;32m--> 417\u001b[0m     \u001b[38;5;28;01mreturn\u001b[39;00m func(\u001b[38;5;241m*\u001b[39margs, \u001b[38;5;241m*\u001b[39m\u001b[38;5;241m*\u001b[39mkwargs)\n",
      "File \u001b[1;32m~\\anaconda3\\envs\\ChatBot1.0\\Lib\\site-packages\\PyPDF2\\_merger.py:194\u001b[0m, in \u001b[0;36mPdfMerger.merge\u001b[1;34m(self, page_number, fileobj, outline_item, pages, import_outline, position)\u001b[0m\n\u001b[0;32m    189\u001b[0m \u001b[38;5;28;01mif\u001b[39;00m fileobj \u001b[38;5;129;01mis\u001b[39;00m \u001b[38;5;28;01mNone\u001b[39;00m:  \u001b[38;5;66;03m# deprecated\u001b[39;00m\n\u001b[0;32m    190\u001b[0m     \u001b[38;5;66;03m# The argument is only Optional due to the deprecated position\u001b[39;00m\n\u001b[0;32m    191\u001b[0m     \u001b[38;5;66;03m# argument\u001b[39;00m\n\u001b[0;32m    192\u001b[0m     \u001b[38;5;28;01mraise\u001b[39;00m \u001b[38;5;167;01mValueError\u001b[39;00m(\u001b[38;5;124m\"\u001b[39m\u001b[38;5;124mfileobj may not be None\u001b[39m\u001b[38;5;124m\"\u001b[39m)\n\u001b[1;32m--> 194\u001b[0m stream, encryption_obj \u001b[38;5;241m=\u001b[39m \u001b[38;5;28mself\u001b[39m\u001b[38;5;241m.\u001b[39m_create_stream(fileobj)\n\u001b[0;32m    196\u001b[0m \u001b[38;5;66;03m# Create a new PdfReader instance using the stream\u001b[39;00m\n\u001b[0;32m    197\u001b[0m \u001b[38;5;66;03m# (either file or BytesIO or StringIO) created above\u001b[39;00m\n\u001b[0;32m    198\u001b[0m reader \u001b[38;5;241m=\u001b[39m PdfReader(stream, strict\u001b[38;5;241m=\u001b[39m\u001b[38;5;28mself\u001b[39m\u001b[38;5;241m.\u001b[39mstrict)  \u001b[38;5;66;03m# type: ignore[arg-type]\u001b[39;00m\n",
      "File \u001b[1;32m~\\anaconda3\\envs\\ChatBot1.0\\Lib\\site-packages\\PyPDF2\\_merger.py:263\u001b[0m, in \u001b[0;36mPdfMerger._create_stream\u001b[1;34m(self, fileobj)\u001b[0m\n\u001b[0;32m    261\u001b[0m stream: IOBase\n\u001b[0;32m    262\u001b[0m \u001b[38;5;28;01mif\u001b[39;00m \u001b[38;5;28misinstance\u001b[39m(fileobj, (\u001b[38;5;28mstr\u001b[39m, Path)):\n\u001b[1;32m--> 263\u001b[0m     stream \u001b[38;5;241m=\u001b[39m FileIO(fileobj, \u001b[38;5;124m\"\u001b[39m\u001b[38;5;124mrb\u001b[39m\u001b[38;5;124m\"\u001b[39m)\n\u001b[0;32m    264\u001b[0m \u001b[38;5;28;01melif\u001b[39;00m \u001b[38;5;28misinstance\u001b[39m(fileobj, PdfReader):\n\u001b[0;32m    265\u001b[0m     \u001b[38;5;28;01mif\u001b[39;00m fileobj\u001b[38;5;241m.\u001b[39m_encryption:\n",
      "\u001b[1;31mKeyboardInterrupt\u001b[0m: "
     ]
    }
   ],
   "source": [
    "pdf_files = []\n",
    "for files in os.listdir(input_dir):\n",
    "    if files.endswith('.pdf'):\n",
    "        pdf_files.append(files)\n",
    "        merger.append(os.path.join(input_dir,files))"
   ]
  },
  {
   "cell_type": "code",
   "execution_count": 39,
   "id": "57b4ac89",
   "metadata": {},
   "outputs": [
    {
     "name": "stdout",
     "output_type": "stream",
     "text": [
      "Final.pdf\n",
      "D:\\Darshil\\download_2023-03-29_11-00-15\\personal Proj\\Personal Projects\\ChatBot 1.0\\Data\\Final.pdf\n",
      "generated_text.txt\n",
      "Introduction to Stock Markets.pdf\n",
      "D:\\Darshil\\download_2023-03-29_11-00-15\\personal Proj\\Personal Projects\\ChatBot 1.0\\Data\\Introduction to Stock Markets.pdf\n",
      "MachineLearning.pdf\n",
      "D:\\Darshil\\download_2023-03-29_11-00-15\\personal Proj\\Personal Projects\\ChatBot 1.0\\Data\\MachineLearning.pdf\n",
      "Understanding Body Movement Author Hedda Lausberg.pdf\n",
      "D:\\Darshil\\download_2023-03-29_11-00-15\\personal Proj\\Personal Projects\\ChatBot 1.0\\Data\\Understanding Body Movement Author Hedda Lausberg.pdf\n"
     ]
    }
   ],
   "source": [
    "for root, dirs, filenames in os.walk(os.path.join(root_dir,'Data')):\n",
    "    # Root and directory pathway.\n",
    "    #List all the files\n",
    "    for filename in filenames: \n",
    "        print(filename)\n",
    "        #iterate through each PDF Files\n",
    "        if filename.lower().endswith('.pdf'):\n",
    "            #creating a pdf reader object\n",
    "            print(os.path.join(root_dir,'Data',filename))"
   ]
  },
  {
   "cell_type": "code",
   "execution_count": null,
   "id": "7141cb60",
   "metadata": {},
   "outputs": [],
   "source": []
  }
 ],
 "metadata": {
  "kernelspec": {
   "display_name": "Python 3 (ipykernel)",
   "language": "python",
   "name": "python3"
  },
  "language_info": {
   "codemirror_mode": {
    "name": "ipython",
    "version": 3
   },
   "file_extension": ".py",
   "mimetype": "text/x-python",
   "name": "python",
   "nbconvert_exporter": "python",
   "pygments_lexer": "ipython3",
   "version": "3.11.5"
  }
 },
 "nbformat": 4,
 "nbformat_minor": 5
}
